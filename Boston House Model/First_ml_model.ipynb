{
 "cells": [
  {
   "cell_type": "markdown",
   "id": "54e935ef",
   "metadata": {},
   "source": [
    "# Dragon real state price predictor"
   ]
  },
  {
   "cell_type": "code",
   "execution_count": 1,
   "id": "2e3acd53",
   "metadata": {},
   "outputs": [],
   "source": [
    "import pandas as pd\n",
    "from sklearn import datasets\n",
    "import matplotlib.pyplot as plt\n",
    "import numpy as np"
   ]
  },
  {
   "cell_type": "code",
   "execution_count": 2,
   "id": "babb7774",
   "metadata": {},
   "outputs": [],
   "source": [
    "housing = datasets.load_boston()\n",
    "File = pd.DataFrame(housing.data, columns = housing.feature_names)\n",
    "File = File.assign(Target = housing.target)"
   ]
  },
  {
   "cell_type": "code",
   "execution_count": 3,
   "id": "ed4fb713",
   "metadata": {
    "scrolled": false
   },
   "outputs": [],
   "source": [
    "#File.info()"
   ]
  },
  {
   "cell_type": "code",
   "execution_count": 4,
   "id": "183ec5be",
   "metadata": {},
   "outputs": [
    {
     "data": {
      "text/plain": [
       "0.0    471\n",
       "1.0     35\n",
       "Name: CHAS, dtype: int64"
      ]
     },
     "execution_count": 4,
     "metadata": {},
     "output_type": "execute_result"
    }
   ],
   "source": [
    "File['CHAS'].value_counts()"
   ]
  },
  {
   "cell_type": "code",
   "execution_count": 5,
   "id": "52cc0fc2",
   "metadata": {},
   "outputs": [],
   "source": [
    "#File.describe()"
   ]
  },
  {
   "cell_type": "code",
   "execution_count": null,
   "id": "cdabf0b5",
   "metadata": {},
   "outputs": [],
   "source": []
  },
  {
   "cell_type": "code",
   "execution_count": 6,
   "id": "18d8a616",
   "metadata": {},
   "outputs": [],
   "source": [
    "#File.hist(bins = 50, figsize = (10,15))"
   ]
  },
  {
   "cell_type": "markdown",
   "id": "9f2e2fb6",
   "metadata": {},
   "source": [
    "## Train-Test splitting"
   ]
  },
  {
   "cell_type": "code",
   "execution_count": 7,
   "id": "930ef359",
   "metadata": {},
   "outputs": [],
   "source": [
    "def split_data(data, test_ratio):\n",
    "    np.random.seed(42)\n",
    "    shuffled = np.random.permutation(len(data))\n",
    "    test_set_size = int(len(data) * test_ratio)\n",
    "    test_indices = shuffled[:test_set_size]\n",
    "    train_indices = shuffled[test_set_size:]\n",
    "    return data.iloc[train_indices], data.iloc[test_indices]"
   ]
  },
  {
   "cell_type": "code",
   "execution_count": 8,
   "id": "c747e3c4",
   "metadata": {},
   "outputs": [],
   "source": [
    "train_set, test_set = split_data(File,0.2)"
   ]
  },
  {
   "cell_type": "code",
   "execution_count": 9,
   "id": "8b85afa1",
   "metadata": {},
   "outputs": [
    {
     "name": "stdout",
     "output_type": "stream",
     "text": [
      "Rows in train set : 405\n",
      "Rows in test set: 101\n",
      "\n"
     ]
    }
   ],
   "source": [
    "print(f\"Rows in train set : {len(train_set)}\\nRows in test set: {len(test_set)}\\n\")"
   ]
  },
  {
   "cell_type": "markdown",
   "id": "0850bc5e",
   "metadata": {},
   "source": [
    "### So 405 dataset is for training and 101 dataset for testing"
   ]
  },
  {
   "cell_type": "markdown",
   "id": "be9cca6b",
   "metadata": {},
   "source": [
    "### What we have done above is present in sklearn library. so we will use "
   ]
  },
  {
   "cell_type": "code",
   "execution_count": 10,
   "id": "fec4ae3d",
   "metadata": {},
   "outputs": [],
   "source": [
    "#from sklearn.model_selection import train_test_split\n",
    "#train_set, test_set = train_test_split(File, test_size = 0.2, random_state = 42)"
   ]
  },
  {
   "cell_type": "code",
   "execution_count": 11,
   "id": "2734285c",
   "metadata": {},
   "outputs": [],
   "source": [
    "#print(f\"Rows in train set : {len(train_set)}\\nRows in test set: {len(test_set)}\\n\")"
   ]
  },
  {
   "cell_type": "markdown",
   "id": "77ff252a",
   "metadata": {},
   "source": [
    "### Now it may happen that the data may not be proprtionaly distributed among the taring and testing datasets."
   ]
  },
  {
   "cell_type": "markdown",
   "id": "c2bd820e",
   "metadata": {},
   "source": [
    "### So to do that again sklearn comes to resque."
   ]
  },
  {
   "cell_type": "code",
   "execution_count": 12,
   "id": "20c46913",
   "metadata": {},
   "outputs": [],
   "source": [
    "from sklearn.model_selection import StratifiedShuffleSplit\n",
    "split = StratifiedShuffleSplit(n_splits = 1, test_size = 0.2, random_state = 42)\n",
    "for train_index, test_index in split.split(File,File['CHAS']):\n",
    "    strat_train_set = File.loc[train_index]\n",
    "    strat_test_set = File.loc[test_index]"
   ]
  },
  {
   "cell_type": "code",
   "execution_count": 13,
   "id": "35162391",
   "metadata": {},
   "outputs": [],
   "source": [
    "housing = strat_train_set.copy()"
   ]
  },
  {
   "cell_type": "markdown",
   "id": "b1d736de",
   "metadata": {},
   "source": [
    "## Looking for correlations"
   ]
  },
  {
   "cell_type": "code",
   "execution_count": 14,
   "id": "1020271c",
   "metadata": {},
   "outputs": [],
   "source": [
    "corr_matrix = File.corr()"
   ]
  },
  {
   "cell_type": "code",
   "execution_count": 15,
   "id": "dab46576",
   "metadata": {},
   "outputs": [
    {
     "data": {
      "text/plain": [
       "Target     1.000000\n",
       "RM         0.695360\n",
       "ZN         0.360445\n",
       "B          0.333461\n",
       "DIS        0.249929\n",
       "CHAS       0.175260\n",
       "AGE       -0.376955\n",
       "RAD       -0.381626\n",
       "CRIM      -0.388305\n",
       "NOX       -0.427321\n",
       "TAX       -0.468536\n",
       "INDUS     -0.483725\n",
       "PTRATIO   -0.507787\n",
       "LSTAT     -0.737663\n",
       "Name: Target, dtype: float64"
      ]
     },
     "execution_count": 15,
     "metadata": {},
     "output_type": "execute_result"
    }
   ],
   "source": [
    "corr_matrix['Target'].sort_values(ascending = False)"
   ]
  },
  {
   "cell_type": "markdown",
   "id": "b7d21b99",
   "metadata": {},
   "source": [
    "## Above output is of correlation of the target with features\n",
    "### RM and ZN are postively correlated. so we will use this for plotting scatter_matrix"
   ]
  },
  {
   "cell_type": "code",
   "execution_count": 16,
   "id": "8bb75cd4",
   "metadata": {},
   "outputs": [],
   "source": [
    "#from pandas.plotting import scatter_matrix\n",
    "#attributes = ['Target', 'RM', 'ZN', 'LSTAT']\n",
    "#scatter_matrix(File[attributes], figsize = (12,8))"
   ]
  },
  {
   "cell_type": "code",
   "execution_count": 17,
   "id": "56ab33b1",
   "metadata": {},
   "outputs": [],
   "source": [
    "#File.plot(kind = \"scatter\", x = \"RM\", y = \"Target\", alpha = 0.8)"
   ]
  },
  {
   "cell_type": "markdown",
   "id": "10187df2",
   "metadata": {},
   "source": [
    "## Separting features and label from training dataset"
   ]
  },
  {
   "cell_type": "code",
   "execution_count": 18,
   "id": "c6968440",
   "metadata": {},
   "outputs": [
    {
     "data": {
      "text/plain": [
       "Index(['CRIM', 'ZN', 'INDUS', 'CHAS', 'NOX', 'RM', 'AGE', 'DIS', 'RAD', 'TAX',\n",
       "       'PTRATIO', 'B', 'LSTAT', 'Target'],\n",
       "      dtype='object')"
      ]
     },
     "execution_count": 18,
     "metadata": {},
     "output_type": "execute_result"
    }
   ],
   "source": [
    "housing.columns"
   ]
  },
  {
   "cell_type": "code",
   "execution_count": 19,
   "id": "30995c46",
   "metadata": {},
   "outputs": [],
   "source": [
    "housing = strat_train_set.drop(\"Target\", axis = 1)\n",
    "housing_labels = strat_train_set[\"Target\"].copy()"
   ]
  },
  {
   "cell_type": "code",
   "execution_count": 20,
   "id": "47c09c01",
   "metadata": {},
   "outputs": [
    {
     "data": {
      "text/plain": [
       "Index(['CRIM', 'ZN', 'INDUS', 'CHAS', 'NOX', 'RM', 'AGE', 'DIS', 'RAD', 'TAX',\n",
       "       'PTRATIO', 'B', 'LSTAT'],\n",
       "      dtype='object')"
      ]
     },
     "execution_count": 20,
     "metadata": {},
     "output_type": "execute_result"
    }
   ],
   "source": [
    "housing.columns"
   ]
  },
  {
   "cell_type": "markdown",
   "id": "63f6c91d",
   "metadata": {},
   "source": [
    "### We can make attribute by ourself using other attributes"
   ]
  },
  {
   "cell_type": "code",
   "execution_count": null,
   "id": "8dc56072",
   "metadata": {},
   "outputs": [],
   "source": []
  },
  {
   "cell_type": "code",
   "execution_count": 21,
   "id": "1d98ec62",
   "metadata": {},
   "outputs": [],
   "source": [
    "#File['TAXRM'] = File['TAX'] / File['RM']\n",
    "#File['TAXRM']"
   ]
  },
  {
   "cell_type": "code",
   "execution_count": 22,
   "id": "526c59a6",
   "metadata": {},
   "outputs": [],
   "source": [
    "#corr_matrix = File.corr()\n",
    "#corr_matrix['Target'].sort_values(ascending = False)"
   ]
  },
  {
   "cell_type": "markdown",
   "id": "e286c713",
   "metadata": {},
   "source": [
    "### Handling the cases for missing attributes\n",
    "+Get rid of the msissing data points\n",
    "***Get rid of the whole attribute\n",
    "***Set the value to some value(0, mean or meadian)"
   ]
  },
  {
   "cell_type": "markdown",
   "id": "5a6be1b0",
   "metadata": {},
   "source": [
    "### sklearn.impute.imputer does same job"
   ]
  },
  {
   "cell_type": "markdown",
   "id": "7cd344ff",
   "metadata": {},
   "source": [
    "## Scikit-learn design"
   ]
  },
  {
   "cell_type": "markdown",
   "id": "6b542a06",
   "metadata": {},
   "source": [
    "primarily, three types of objects\n",
    "1. Estimators - It estimates some parameters based on the dataset Ex. Imputer. It has fit method and transform method. Fit method - Fits the dataset and calculates internal parameters.\n",
    "\n",
    "2. Transformers - transform method takes input and returns output based on the learnings from the fit(). It also has a convenience function called fit_transform() which fits and then transforms.\n",
    "\n",
    "3. Predictors - LinearRegression model is and example of predictor. fit() and predict() are two common functions. It also gives score() function which will evaluate the predictions."
   ]
  },
  {
   "cell_type": "markdown",
   "id": "bbad5f58",
   "metadata": {},
   "source": [
    "## Feature Scaling"
   ]
  },
  {
   "cell_type": "markdown",
   "id": "2836f60d",
   "metadata": {},
   "source": [
    "Primarily, two types of features scaling methods:\n",
    "1. Min-max sacling (Normalization)\n",
    "    (value - min) / (max - min)\n",
    "    sklearn provides a class called MinMaxScaler for this.\n",
    "2. Standardization\n",
    "    (value - mean)/std\n",
    "    sklearn provides a class called StandardScaler for this."
   ]
  },
  {
   "cell_type": "markdown",
   "id": "27577bbf",
   "metadata": {},
   "source": [
    "## Creating pipeline"
   ]
  },
  {
   "cell_type": "code",
   "execution_count": 23,
   "id": "31e94914",
   "metadata": {},
   "outputs": [],
   "source": [
    "from sklearn.pipeline import Pipeline\n",
    "from sklearn.preprocessing import StandardScaler\n",
    "from sklearn.impute import SimpleImputer\n",
    "my_pipeline = Pipeline([\n",
    "    ('imputer', SimpleImputer(strategy = \"median\")),\n",
    "    ('std_scaler', StandardScaler()),\n",
    "])"
   ]
  },
  {
   "cell_type": "code",
   "execution_count": 24,
   "id": "552f56bf",
   "metadata": {},
   "outputs": [],
   "source": [
    "housing_num_tr = my_pipeline.fit_transform(housing)"
   ]
  },
  {
   "cell_type": "code",
   "execution_count": 25,
   "id": "eb060873",
   "metadata": {},
   "outputs": [
    {
     "data": {
      "text/plain": [
       "(404, 13)"
      ]
     },
     "execution_count": 25,
     "metadata": {},
     "output_type": "execute_result"
    }
   ],
   "source": [
    "housing_num_tr.shape"
   ]
  },
  {
   "cell_type": "markdown",
   "id": "d1be42be",
   "metadata": {},
   "source": [
    "## Selecting a desired model for dragon real estate"
   ]
  },
  {
   "cell_type": "code",
   "execution_count": null,
   "id": "67fa4f25",
   "metadata": {},
   "outputs": [],
   "source": []
  },
  {
   "cell_type": "code",
   "execution_count": 26,
   "id": "0d9b6469",
   "metadata": {},
   "outputs": [],
   "source": [
    "from sklearn.linear_model import LinearRegression\n",
    "from sklearn.tree import DecisionTreeRegressor\n",
    "from sklearn.ensemble import RandomForestRegressor"
   ]
  },
  {
   "cell_type": "code",
   "execution_count": 27,
   "id": "103f9204",
   "metadata": {},
   "outputs": [
    {
     "data": {
      "text/plain": [
       "RandomForestRegressor()"
      ]
     },
     "execution_count": 27,
     "metadata": {},
     "output_type": "execute_result"
    }
   ],
   "source": [
    "#model = DecisionTreeRegressor()\n",
    "#model = LinearRegression()\n",
    "model = RandomForestRegressor()\n",
    "model.fit(housing_num_tr, housing_labels)"
   ]
  },
  {
   "cell_type": "code",
   "execution_count": 28,
   "id": "3b9a2f84",
   "metadata": {},
   "outputs": [
    {
     "data": {
      "text/plain": [
       "array([22.508, 25.587, 16.363, 23.376, 23.391])"
      ]
     },
     "execution_count": 28,
     "metadata": {},
     "output_type": "execute_result"
    }
   ],
   "source": [
    "some_data = housing.iloc[:5]\n",
    "some_labels = housing_labels.iloc[:5]\n",
    "prepared_data = my_pipeline.transform(some_data)\n",
    "model.predict(prepared_data)"
   ]
  },
  {
   "cell_type": "code",
   "execution_count": 29,
   "id": "861adbe1",
   "metadata": {},
   "outputs": [
    {
     "data": {
      "text/plain": [
       "[21.9, 24.5, 16.7, 23.1, 23.0]"
      ]
     },
     "execution_count": 29,
     "metadata": {},
     "output_type": "execute_result"
    }
   ],
   "source": [
    "list(some_labels)"
   ]
  },
  {
   "cell_type": "code",
   "execution_count": 43,
   "id": "8d1bf7f8",
   "metadata": {},
   "outputs": [
    {
     "data": {
      "text/plain": [
       "array([-0.43942006,  3.12628155, -1.12165014, -0.27288841, -1.42262747,\n",
       "       -0.24141041, -1.31238772,  2.61111401, -1.0016859 , -0.5778192 ,\n",
       "       -0.97491834,  0.41164221, -0.86091034])"
      ]
     },
     "execution_count": 43,
     "metadata": {},
     "output_type": "execute_result"
    }
   ],
   "source": [
    "prepared_data[0]"
   ]
  },
  {
   "cell_type": "markdown",
   "id": "8107608f",
   "metadata": {},
   "source": [
    "## Evaluating the model"
   ]
  },
  {
   "cell_type": "code",
   "execution_count": 30,
   "id": "8b4e8b12",
   "metadata": {},
   "outputs": [
    {
     "data": {
      "text/plain": [
       "1.1631531338870584"
      ]
     },
     "execution_count": 30,
     "metadata": {},
     "output_type": "execute_result"
    }
   ],
   "source": [
    "from sklearn.metrics import mean_squared_error\n",
    "housing_predictions = model.predict(housing_num_tr)\n",
    "lin_mse = mean_squared_error(housing_labels, housing_predictions)\n",
    "lin_rmse = np.sqrt(lin_mse)\n",
    "lin_rmse"
   ]
  },
  {
   "cell_type": "markdown",
   "id": "2c223391",
   "metadata": {},
   "source": [
    "## Using better evaluation technique - cross validation"
   ]
  },
  {
   "cell_type": "code",
   "execution_count": 31,
   "id": "826e7823",
   "metadata": {},
   "outputs": [],
   "source": [
    "from sklearn.model_selection import cross_val_score\n",
    "scores = cross_val_score(model, housing_num_tr, housing_labels, scoring = \"neg_mean_squared_error\", cv = 10)\n",
    "rmse_scores = np.sqrt(-scores)"
   ]
  },
  {
   "cell_type": "code",
   "execution_count": 32,
   "id": "2ef57b7d",
   "metadata": {},
   "outputs": [
    {
     "data": {
      "text/plain": [
       "array([2.79289168, 2.69441597, 4.40018895, 2.56972379, 3.33073436,\n",
       "       2.62687167, 4.77007351, 3.27403209, 3.38378214, 3.16691711])"
      ]
     },
     "execution_count": 32,
     "metadata": {},
     "output_type": "execute_result"
    }
   ],
   "source": [
    "rmse_scores"
   ]
  },
  {
   "cell_type": "code",
   "execution_count": 33,
   "id": "0df8b222",
   "metadata": {},
   "outputs": [],
   "source": [
    "def print_scores(scores):\n",
    "    print(\"Scores: \", scores)\n",
    "    print(\"Mean: \", scores.mean())\n",
    "    print(\"Standard deviation: \", scores.std())"
   ]
  },
  {
   "cell_type": "code",
   "execution_count": 34,
   "id": "a07dfb4b",
   "metadata": {},
   "outputs": [
    {
     "name": "stdout",
     "output_type": "stream",
     "text": [
      "Scores:  [2.79289168 2.69441597 4.40018895 2.56972379 3.33073436 2.62687167\n",
      " 4.77007351 3.27403209 3.38378214 3.16691711]\n",
      "Mean:  3.3009631251857217\n",
      "Standard deviation:  0.7076841067486248\n"
     ]
    }
   ],
   "source": [
    "print_scores(rmse_scores)"
   ]
  },
  {
   "cell_type": "markdown",
   "id": "cba62ac8",
   "metadata": {},
   "source": [
    "## Saving the model"
   ]
  },
  {
   "cell_type": "code",
   "execution_count": 35,
   "id": "d5cf14ce",
   "metadata": {},
   "outputs": [
    {
     "data": {
      "text/plain": [
       "['Dragon.joblib']"
      ]
     },
     "execution_count": 35,
     "metadata": {},
     "output_type": "execute_result"
    }
   ],
   "source": [
    "from joblib import dump, load\n",
    "dump(model, 'Dragon.joblib')"
   ]
  },
  {
   "cell_type": "markdown",
   "id": "0d9081dc",
   "metadata": {},
   "source": [
    "## Testing the model"
   ]
  },
  {
   "cell_type": "code",
   "execution_count": 41,
   "id": "69057a0a",
   "metadata": {},
   "outputs": [
    {
     "name": "stdout",
     "output_type": "stream",
     "text": [
      "[24.895 11.466 25.439 21.974 18.471 14.873 19.897 14.416 31.435 40.68\n",
      " 20.067 11.776 24.004 28.999 19.503 10.679 31.58  14.492 23.586 18.94\n",
      " 19.767 17.955 17.534 22.073 18.429 30.549 16.416 32.69   8.952 33.616\n",
      " 23.715 21.26  22.98  10.808 20.924 11.293 42.541 24.308 23.292 41.623\n",
      " 23.753 29.423 20.594 20.912 19.565 33.578 44.468 19.92  20.344 21.768\n",
      " 21.492 14.514 21.169 15.094 24.771 32.651 42.389 28.135 19.353 20.837\n",
      " 47.322  9.96  18.674 24.579 15.057 32.746 19.461 18.158 19.014 33.84\n",
      " 27.27  22.85  21.519 22.436 34.997 12.793 15.94  20.048 20.726 21.379\n",
      " 22.303 21.651 14.429 22.832 20.848 21.168 13.933 21.346 22.005 23.151\n",
      " 18.865 27.24   7.276 26.14  18.817 29.887 19.692 31.073 14.663 26.607\n",
      " 20.713 20.087] [16.5, 10.2, 30.1, 23.0, 14.4, 15.6, 19.4, 14.1, 30.3, 35.2, 23.1, 13.8, 25.0, 27.9, 19.5, 12.3, 32.2, 13.5, 23.8, 21.7, 19.2, 19.5, 10.4, 23.2, 18.6, 28.5, 15.2, 32.0, 7.2, 34.6, 20.1, 20.6, 23.6, 13.1, 23.8, 12.7, 43.1, 24.7, 22.2, 44.0, 28.1, 31.0, 21.7, 23.4, 19.5, 33.1, 41.7, 18.7, 19.9, 20.6, 21.2, 13.6, 20.3, 17.8, 27.1, 31.5, 50.0, 29.1, 18.9, 20.4, 50.0, 7.2, 17.2, 36.2, 14.6, 33.2, 23.8, 19.9, 21.5, 37.3, 27.0, 22.0, 24.3, 19.8, 33.3, 7.0, 19.4, 20.9, 21.1, 20.4, 22.2, 11.9, 11.7, 21.6, 19.7, 23.0, 16.7, 21.7, 20.6, 23.3, 19.6, 28.0, 5.0, 24.4, 20.8, 24.8, 21.8, 23.6, 19.0, 25.0, 20.3, 21.5]\n"
     ]
    }
   ],
   "source": [
    "X_test = strat_test_set.drop(\"Target\", axis = 1)\n",
    "Y_test = strat_test_set[\"Target\"].copy()\n",
    "X_test_prepared = my_pipeline.transform(X_test)\n",
    "final_predictions = model.predict(X_test_prepared)\n",
    "final_mse = mean_squared_error(Y_test, final_predictions)\n",
    "final_rmse = np.sqrt(final_mse)\n",
    "print(final_predictions, list(Y_test))"
   ]
  },
  {
   "cell_type": "code",
   "execution_count": 37,
   "id": "97572071",
   "metadata": {},
   "outputs": [
    {
     "data": {
      "text/plain": [
       "2.948844070638726"
      ]
     },
     "execution_count": 37,
     "metadata": {},
     "output_type": "execute_result"
    }
   ],
   "source": [
    "print_scores(final_rmse)"
   ]
  },
  {
   "cell_type": "code",
   "execution_count": 44,
   "id": "8f41d336",
   "metadata": {},
   "outputs": [
    {
     "data": {
      "text/plain": [
       "array([-0.43942006,  3.12628155, -1.12165014, -0.27288841, -1.42262747,\n",
       "       -0.24141041, -1.31238772,  2.61111401, -1.0016859 , -0.5778192 ,\n",
       "       -0.97491834,  0.41164221, -0.86091034])"
      ]
     },
     "execution_count": 44,
     "metadata": {},
     "output_type": "execute_result"
    }
   ],
   "source": [
    "prepared_data[0]\n"
   ]
  },
  {
   "cell_type": "markdown",
   "id": "31395e40",
   "metadata": {},
   "source": [
    "## Using the model"
   ]
  },
  {
   "cell_type": "code",
   "execution_count": 45,
   "id": "032e0880",
   "metadata": {},
   "outputs": [
    {
     "data": {
      "text/plain": [
       "array([22.508])"
      ]
     },
     "execution_count": 45,
     "metadata": {},
     "output_type": "execute_result"
    }
   ],
   "source": [
    "from joblib import dump, load\n",
    "model = load('Dragon.joblib')\n",
    "input = np.array([[-0.43942006,  3.12628155, -1.12165014, -0.27288841, -1.42262747,\n",
    "       -0.24141041, -1.31238772,  2.61111401, -1.0016859 , -0.5778192 ,\n",
    "       -0.97491834,  0.41164221, -0.86091034]])\n",
    "model.predict(input)"
   ]
  },
  {
   "cell_type": "code",
   "execution_count": null,
   "id": "8243b7a0",
   "metadata": {},
   "outputs": [],
   "source": []
  }
 ],
 "metadata": {
  "kernelspec": {
   "display_name": "Python 3",
   "language": "python",
   "name": "python3"
  },
  "language_info": {
   "codemirror_mode": {
    "name": "ipython",
    "version": 3
   },
   "file_extension": ".py",
   "mimetype": "text/x-python",
   "name": "python",
   "nbconvert_exporter": "python",
   "pygments_lexer": "ipython3",
   "version": "3.8.8"
  }
 },
 "nbformat": 4,
 "nbformat_minor": 5
}
